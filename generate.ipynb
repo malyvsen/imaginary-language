{
 "cells": [
  {
   "cell_type": "code",
   "execution_count": 1,
   "metadata": {},
   "outputs": [
    {
     "output_type": "stream",
     "name": "stderr",
     "text": "[nltk_data] Downloading package wordnet to /home/malyvsen/nltk_data...\n[nltk_data]   Package wordnet is already up-to-date!\n[nltk_data] Downloading package omw to /home/malyvsen/nltk_data...\n[nltk_data]   Package omw is already up-to-date!\n"
    },
    {
     "output_type": "execute_result",
     "data": {
      "text/plain": "True"
     },
     "metadata": {},
     "execution_count": 1
    }
   ],
   "source": [
    "import nltk\n",
    "nltk.download('wordnet')\n",
    "nltk.download('omw')"
   ]
  },
  {
   "cell_type": "code",
   "execution_count": 2,
   "metadata": {},
   "outputs": [],
   "source": [
    "from nltk.corpus import wordnet\n",
    "from nltk import ngrams"
   ]
  },
  {
   "cell_type": "code",
   "execution_count": 3,
   "metadata": {},
   "outputs": [
    {
     "output_type": "execute_result",
     "data": {
      "text/plain": "18"
     },
     "metadata": {},
     "execution_count": 3
    }
   ],
   "source": [
    "def synset_popularity(synset):\n",
    "    return sum(lemma.count() for lemma in synset.lemmas())\n",
    "\n",
    "synset_popularity(wordnet.synsets('cat')[0])"
   ]
  },
  {
   "cell_type": "code",
   "execution_count": 4,
   "metadata": {},
   "outputs": [
    {
     "output_type": "execute_result",
     "data": {
      "text/plain": "True"
     },
     "metadata": {},
     "execution_count": 4
    }
   ],
   "source": [
    "def contains(parent, child):\n",
    "    return parent in child.closure(lambda x: x.hypernyms())\n",
    "\n",
    "contains(wordnet.synsets('animal')[0], wordnet.synsets('human')[0])"
   ]
  },
  {
   "cell_type": "code",
   "execution_count": 5,
   "metadata": {},
   "outputs": [
    {
     "output_type": "execute_result",
     "data": {
      "text/plain": "'calendar month'"
     },
     "metadata": {},
     "execution_count": 5
    }
   ],
   "source": [
    "def synset_word(synset):\n",
    "    return synset.lemmas()[0].name().replace('_', ' ')\n",
    "\n",
    "synset_word(wordnet.synsets('month')[0])"
   ]
  },
  {
   "cell_type": "code",
   "execution_count": 6,
   "metadata": {},
   "outputs": [],
   "source": [
    "class Node:\n",
    "    def __init__(self, synset, children=None):\n",
    "        self.synset = synset\n",
    "        self.children = [] if children is None else children\n",
    "    \n",
    "    def __str__(self, level=0):\n",
    "        indent = ' ' * (level - 1) * 2\n",
    "        if level > 0:\n",
    "            indent += '|-'\n",
    "        word = synset_word(self.synset)\n",
    "        return indent + word + '\\n' + ''.join(child.__str__(level + 1) for child in self.children)"
   ]
  },
  {
   "cell_type": "code",
   "execution_count": 7,
   "metadata": {
    "tags": [
     "outputPrepend"
    ]
   },
   "outputs": [
    {
     "output_type": "stream",
     "name": "stdout",
     "text": "alcohol\n|-beer\n|-liquor\n  |-whiskey\n    |-bourbon\n  |-brandy\n    |-applejack\n  |-bitters\n  |-bathtub gin\n|-daiquiri\n|-martini\n|-Scotch and soda\n|-hot toddy\n|-wine\n  |-champagne\n  |-sherry\n  |-port\n  |-vermouth\n  |-vintage\n\n"
    }
   ],
   "source": [
    "def build_tree(root, synset=None):\n",
    "    update_root = synset is not None and synset_popularity(synset) > 0\n",
    "    if update_root:\n",
    "        new_node = Node(synset)\n",
    "        root.children.append(new_node)\n",
    "        root = new_node\n",
    "    if synset is None:\n",
    "        synset = root.synset\n",
    "    for subset in synset.hyponyms():\n",
    "        build_tree(root, subset)\n",
    "    if update_root:\n",
    "        root.children.sort(key=lambda child: synset_popularity(child.synset), reverse=True)\n",
    "    return root\n",
    "\n",
    "print(build_tree(Node(wordnet.synsets('alcohol')[0])))"
   ]
  },
  {
   "cell_type": "code",
   "execution_count": 8,
   "metadata": {},
   "outputs": [
    {
     "output_type": "execute_result",
     "data": {
      "text/plain": "Synset('entity.n.01')"
     },
     "metadata": {},
     "execution_count": 8
    }
   ],
   "source": [
    "root_noun = wordnet.synsets('cat')[0].root_hypernyms()[0]\n",
    "root_noun"
   ]
  },
  {
   "cell_type": "code",
   "execution_count": 9,
   "metadata": {},
   "outputs": [],
   "source": [
    "noun_tree = build_tree(Node(root_noun))\n",
    "with open('./english_tree.txt', 'w') as file:\n",
    "    file.write(str(noun_tree))"
   ]
  }
 ],
 "metadata": {
  "language_info": {
   "codemirror_mode": {
    "name": "ipython",
    "version": 3
   },
   "file_extension": ".py",
   "mimetype": "text/x-python",
   "name": "python",
   "nbconvert_exporter": "python",
   "pygments_lexer": "ipython3",
   "version": "3.7.7-final"
  },
  "orig_nbformat": 2,
  "kernelspec": {
   "name": "python37764bitaivenv5ef05f08934749d89ee1a1042231ffb2",
   "display_name": "Python 3.7.7 64-bit ('ai': venv)"
  }
 },
 "nbformat": 4,
 "nbformat_minor": 2
}